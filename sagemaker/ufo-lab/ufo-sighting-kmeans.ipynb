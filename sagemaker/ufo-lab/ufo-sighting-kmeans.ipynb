{
 "cells": [
  {
   "cell_type": "code",
   "execution_count": 64,
   "metadata": {},
   "outputs": [],
   "source": [
    "import os\n",
    "import numpy as np\n",
    "import pandas as pd\n",
    "from datetime import datetime\n",
    "\n",
    "import boto3\n",
    "from sagemaker import get_execution_role, KMeans\n",
    "import sagemaker.amazon.common as smac\n",
    "\n",
    "from io import StringIO"
   ]
  },
  {
   "cell_type": "code",
   "execution_count": 2,
   "metadata": {},
   "outputs": [],
   "source": [
    "role = get_execution_role()"
   ]
  },
  {
   "cell_type": "code",
   "execution_count": 6,
   "metadata": {},
   "outputs": [
    {
     "data": {
      "text/html": [
       "<div>\n",
       "<style scoped>\n",
       "    .dataframe tbody tr th:only-of-type {\n",
       "        vertical-align: middle;\n",
       "    }\n",
       "\n",
       "    .dataframe tbody tr th {\n",
       "        vertical-align: top;\n",
       "    }\n",
       "\n",
       "    .dataframe thead th {\n",
       "        text-align: right;\n",
       "    }\n",
       "</style>\n",
       "<table border=\"1\" class=\"dataframe\">\n",
       "  <thead>\n",
       "    <tr style=\"text-align: right;\">\n",
       "      <th></th>\n",
       "      <th>reportedTimestamp</th>\n",
       "      <th>eventDate</th>\n",
       "      <th>eventTime</th>\n",
       "      <th>shape</th>\n",
       "      <th>duration</th>\n",
       "      <th>witnesses</th>\n",
       "      <th>weather</th>\n",
       "      <th>firstName</th>\n",
       "      <th>lastName</th>\n",
       "      <th>latitude</th>\n",
       "      <th>longitude</th>\n",
       "      <th>sighting</th>\n",
       "      <th>physicalEvidence</th>\n",
       "      <th>contact</th>\n",
       "      <th>researchOutcome</th>\n",
       "    </tr>\n",
       "  </thead>\n",
       "  <tbody>\n",
       "    <tr>\n",
       "      <th>0</th>\n",
       "      <td>1977-04-04T04:02:23.340Z</td>\n",
       "      <td>1977-03-31</td>\n",
       "      <td>23:46</td>\n",
       "      <td>circle</td>\n",
       "      <td>4</td>\n",
       "      <td>1</td>\n",
       "      <td>rain</td>\n",
       "      <td>Ila</td>\n",
       "      <td>Bashirian</td>\n",
       "      <td>47.329444</td>\n",
       "      <td>-122.578889</td>\n",
       "      <td>Y</td>\n",
       "      <td>N</td>\n",
       "      <td>N</td>\n",
       "      <td>explained</td>\n",
       "    </tr>\n",
       "    <tr>\n",
       "      <th>1</th>\n",
       "      <td>1982-11-22T02:06:32.019Z</td>\n",
       "      <td>1982-11-15</td>\n",
       "      <td>22:04</td>\n",
       "      <td>disk</td>\n",
       "      <td>4</td>\n",
       "      <td>1</td>\n",
       "      <td>partly cloudy</td>\n",
       "      <td>Eriberto</td>\n",
       "      <td>Runolfsson</td>\n",
       "      <td>52.664913</td>\n",
       "      <td>-1.034894</td>\n",
       "      <td>Y</td>\n",
       "      <td>Y</td>\n",
       "      <td>N</td>\n",
       "      <td>explained</td>\n",
       "    </tr>\n",
       "    <tr>\n",
       "      <th>2</th>\n",
       "      <td>1992-12-07T19:06:52.482Z</td>\n",
       "      <td>1992-12-07</td>\n",
       "      <td>19:01</td>\n",
       "      <td>circle</td>\n",
       "      <td>49</td>\n",
       "      <td>1</td>\n",
       "      <td>clear</td>\n",
       "      <td>Miller</td>\n",
       "      <td>Watsica</td>\n",
       "      <td>38.951667</td>\n",
       "      <td>-92.333889</td>\n",
       "      <td>Y</td>\n",
       "      <td>N</td>\n",
       "      <td>N</td>\n",
       "      <td>explained</td>\n",
       "    </tr>\n",
       "    <tr>\n",
       "      <th>3</th>\n",
       "      <td>2011-02-24T21:06:34.898Z</td>\n",
       "      <td>2011-02-21</td>\n",
       "      <td>20:56</td>\n",
       "      <td>disk</td>\n",
       "      <td>13</td>\n",
       "      <td>1</td>\n",
       "      <td>partly cloudy</td>\n",
       "      <td>Clifton</td>\n",
       "      <td>Bechtelar</td>\n",
       "      <td>41.496944</td>\n",
       "      <td>-71.367778</td>\n",
       "      <td>Y</td>\n",
       "      <td>N</td>\n",
       "      <td>N</td>\n",
       "      <td>explained</td>\n",
       "    </tr>\n",
       "    <tr>\n",
       "      <th>4</th>\n",
       "      <td>1991-03-09T16:18:45.501Z</td>\n",
       "      <td>1991-03-09</td>\n",
       "      <td>11:42</td>\n",
       "      <td>circle</td>\n",
       "      <td>17</td>\n",
       "      <td>1</td>\n",
       "      <td>mostly cloudy</td>\n",
       "      <td>Jayda</td>\n",
       "      <td>Ebert</td>\n",
       "      <td>47.606389</td>\n",
       "      <td>-122.330833</td>\n",
       "      <td>Y</td>\n",
       "      <td>N</td>\n",
       "      <td>N</td>\n",
       "      <td>explained</td>\n",
       "    </tr>\n",
       "  </tbody>\n",
       "</table>\n",
       "</div>"
      ],
      "text/plain": [
       "          reportedTimestamp   eventDate  ... contact researchOutcome\n",
       "0  1977-04-04T04:02:23.340Z  1977-03-31  ...       N       explained\n",
       "1  1982-11-22T02:06:32.019Z  1982-11-15  ...       N       explained\n",
       "2  1992-12-07T19:06:52.482Z  1992-12-07  ...       N       explained\n",
       "3  2011-02-24T21:06:34.898Z  2011-02-21  ...       N       explained\n",
       "4  1991-03-09T16:18:45.501Z  1991-03-09  ...       N       explained\n",
       "\n",
       "[5 rows x 15 columns]"
      ]
     },
     "execution_count": 6,
     "metadata": {},
     "output_type": "execute_result"
    }
   ],
   "source": [
    "bucket = 'ufo-sighting-bucket'\n",
    "data_key = 'ufo_fullset.csv'\n",
    "data_location = f's3://{bucket}/{data_key}'\n",
    "\n",
    "df = pd.read_csv(data_location)\n",
    "df.head()"
   ]
  },
  {
   "cell_type": "code",
   "execution_count": 11,
   "metadata": {},
   "outputs": [
    {
     "name": "stdout",
     "output_type": "stream",
     "text": [
      "10.389% of our data is researchOutcome == probable\n"
     ]
    }
   ],
   "source": [
    "# probable means there were probably aliens\n",
    "\n",
    "outcomes_vc = df['researchOutcome'].value_counts()\n",
    "perc_probable = outcomes_vc['probable'] / outcomes_vc.sum()\n",
    "print(f'{round(perc_probable*100, 3)}% of our data is researchOutcome == probable')"
   ]
  },
  {
   "cell_type": "code",
   "execution_count": 12,
   "metadata": {},
   "outputs": [
    {
     "data": {
      "text/html": [
       "<div>\n",
       "<style scoped>\n",
       "    .dataframe tbody tr th:only-of-type {\n",
       "        vertical-align: middle;\n",
       "    }\n",
       "\n",
       "    .dataframe tbody tr th {\n",
       "        vertical-align: top;\n",
       "    }\n",
       "\n",
       "    .dataframe thead th {\n",
       "        text-align: right;\n",
       "    }\n",
       "</style>\n",
       "<table border=\"1\" class=\"dataframe\">\n",
       "  <thead>\n",
       "    <tr style=\"text-align: right;\">\n",
       "      <th></th>\n",
       "      <th>latitude</th>\n",
       "      <th>longitude</th>\n",
       "    </tr>\n",
       "  </thead>\n",
       "  <tbody>\n",
       "    <tr>\n",
       "      <th>0</th>\n",
       "      <td>47.329444</td>\n",
       "      <td>-122.578889</td>\n",
       "    </tr>\n",
       "    <tr>\n",
       "      <th>1</th>\n",
       "      <td>52.664913</td>\n",
       "      <td>-1.034894</td>\n",
       "    </tr>\n",
       "    <tr>\n",
       "      <th>2</th>\n",
       "      <td>38.951667</td>\n",
       "      <td>-92.333889</td>\n",
       "    </tr>\n",
       "    <tr>\n",
       "      <th>3</th>\n",
       "      <td>41.496944</td>\n",
       "      <td>-71.367778</td>\n",
       "    </tr>\n",
       "    <tr>\n",
       "      <th>4</th>\n",
       "      <td>47.606389</td>\n",
       "      <td>-122.330833</td>\n",
       "    </tr>\n",
       "  </tbody>\n",
       "</table>\n",
       "</div>"
      ],
      "text/plain": [
       "    latitude   longitude\n",
       "0  47.329444 -122.578889\n",
       "1  52.664913   -1.034894\n",
       "2  38.951667  -92.333889\n",
       "3  41.496944  -71.367778\n",
       "4  47.606389 -122.330833"
      ]
     },
     "execution_count": 12,
     "metadata": {},
     "output_type": "execute_result"
    }
   ],
   "source": [
    "df_geo = df[['latitude', 'longitude']]\n",
    "df_geo.head()"
   ]
  },
  {
   "cell_type": "code",
   "execution_count": 13,
   "metadata": {},
   "outputs": [
    {
     "name": "stdout",
     "output_type": "stream",
     "text": [
      "<class 'pandas.core.frame.DataFrame'>\n",
      "RangeIndex: 18000 entries, 0 to 17999\n",
      "Data columns (total 2 columns):\n",
      "latitude     18000 non-null float64\n",
      "longitude    18000 non-null float64\n",
      "dtypes: float64(2)\n",
      "memory usage: 281.3 KB\n"
     ]
    }
   ],
   "source": [
    "df_geo.info()"
   ]
  },
  {
   "cell_type": "markdown",
   "metadata": {},
   "source": [
    "## KMeans needs float32"
   ]
  },
  {
   "cell_type": "code",
   "execution_count": 15,
   "metadata": {},
   "outputs": [
    {
     "name": "stderr",
     "output_type": "stream",
     "text": [
      "/home/ec2-user/anaconda3/envs/python3/lib/python3.6/site-packages/ipykernel/__main__.py:1: SettingWithCopyWarning: \n",
      "A value is trying to be set on a copy of a slice from a DataFrame.\n",
      "Try using .loc[row_indexer,col_indexer] = value instead\n",
      "\n",
      "See the caveats in the documentation: http://pandas.pydata.org/pandas-docs/stable/indexing.html#indexing-view-versus-copy\n",
      "  if __name__ == '__main__':\n",
      "/home/ec2-user/anaconda3/envs/python3/lib/python3.6/site-packages/ipykernel/__main__.py:2: SettingWithCopyWarning: \n",
      "A value is trying to be set on a copy of a slice from a DataFrame.\n",
      "Try using .loc[row_indexer,col_indexer] = value instead\n",
      "\n",
      "See the caveats in the documentation: http://pandas.pydata.org/pandas-docs/stable/indexing.html#indexing-view-versus-copy\n",
      "  from ipykernel import kernelapp as app\n"
     ]
    }
   ],
   "source": [
    "df_geo['latitude'] = df_geo['latitude'].astype(np.float32)\n",
    "df_geo['longitude'] = df_geo['longitude'].astype(np.float32)"
   ]
  },
  {
   "cell_type": "code",
   "execution_count": 16,
   "metadata": {},
   "outputs": [
    {
     "name": "stdout",
     "output_type": "stream",
     "text": [
      "<class 'pandas.core.frame.DataFrame'>\n",
      "RangeIndex: 18000 entries, 0 to 17999\n",
      "Data columns (total 2 columns):\n",
      "latitude     18000 non-null float32\n",
      "longitude    18000 non-null float32\n",
      "dtypes: float32(2)\n",
      "memory usage: 140.7 KB\n"
     ]
    }
   ],
   "source": [
    "df_geo.info()"
   ]
  },
  {
   "cell_type": "markdown",
   "metadata": {},
   "source": [
    "## Numpy Conversion\n",
    "\n",
    "KMeans also needs the data as a 'RecordObject' so to accomplish this, we convert our dataframe into numpy arrays, then into a `record_set()`\n",
    "\n",
    "source: https://sagemaker.readthedocs.io/en/stable/kmeans.html"
   ]
  },
  {
   "cell_type": "code",
   "execution_count": 19,
   "metadata": {},
   "outputs": [
    {
     "data": {
      "text/plain": [
       "array([[  47.329445, -122.57889 ],\n",
       "       [  52.664913,   -1.034894],\n",
       "       [  38.951668,  -92.333885],\n",
       "       ...,\n",
       "       [  36.86639 ,  -83.888885],\n",
       "       [  35.385834,  -94.39833 ],\n",
       "       [  29.883055,  -97.94111 ]], dtype=float32)"
      ]
     },
     "execution_count": 19,
     "metadata": {},
     "output_type": "execute_result"
    }
   ],
   "source": [
    "data_train = df_geo.values\n",
    "data_train"
   ]
  },
  {
   "cell_type": "code",
   "execution_count": 32,
   "metadata": {},
   "outputs": [],
   "source": [
    "data_train_records = kmeans.record_set(data_train)"
   ]
  },
  {
   "cell_type": "markdown",
   "metadata": {},
   "source": [
    "## Create and Train Model"
   ]
  },
  {
   "cell_type": "code",
   "execution_count": 33,
   "metadata": {},
   "outputs": [],
   "source": [
    "clusters = 10\n",
    "output_location = f's3://{bucket}/model_artifacts'\n",
    "\n",
    "kmeans = KMeans(\n",
    "    role=role, \n",
    "    train_instance_count=1, \n",
    "    train_instance_type='ml.c4.xlarge', \n",
    "    output_path=output_location, \n",
    "    k=clusters\n",
    ")"
   ]
  },
  {
   "cell_type": "code",
   "execution_count": 36,
   "metadata": {},
   "outputs": [
    {
     "name": "stdout",
     "output_type": "stream",
     "text": [
      "kmeans-ufo-job-2020-03-25T19-59-15\n"
     ]
    }
   ],
   "source": [
    "job_name = 'kmeans-ufo-job-' + datetime.now().strftime('%Y-%m-%dT%H-%M-%S')\n",
    "print(job_name)"
   ]
  },
  {
   "cell_type": "code",
   "execution_count": 37,
   "metadata": {},
   "outputs": [
    {
     "name": "stdout",
     "output_type": "stream",
     "text": [
      "2020-03-25 19:59:15 Starting - Starting the training job...\n",
      "2020-03-25 19:59:17 Starting - Launching requested ML instances.........\n",
      "2020-03-25 20:00:49 Starting - Preparing the instances for training......\n",
      "2020-03-25 20:01:52 Downloading - Downloading input data...\n",
      "2020-03-25 20:02:44 Training - Training image download completed. Training in progress.\n",
      "2020-03-25 20:02:44 Uploading - Uploading generated training model.\u001b[34mDocker entrypoint called with argument(s): train\u001b[0m\n",
      "\u001b[34m[03/25/2020 20:02:41 INFO 139660832012096] Reading default configuration from /opt/amazon/lib/python2.7/site-packages/algorithm/resources/default-input.json: {u'_enable_profiler': u'false', u'_tuning_objective_metric': u'', u'_num_gpus': u'auto', u'local_lloyd_num_trials': u'auto', u'_log_level': u'info', u'_kvstore': u'auto', u'local_lloyd_init_method': u'kmeans++', u'force_dense': u'true', u'epochs': u'1', u'init_method': u'random', u'local_lloyd_tol': u'0.0001', u'local_lloyd_max_iter': u'300', u'_disable_wait_to_read': u'false', u'extra_center_factor': u'auto', u'eval_metrics': u'[\"msd\"]', u'_num_kv_servers': u'1', u'mini_batch_size': u'5000', u'half_life_time_size': u'0', u'_num_slices': u'1'}\u001b[0m\n",
      "\u001b[34m[03/25/2020 20:02:41 INFO 139660832012096] Reading provided configuration from /opt/ml/input/config/hyperparameters.json: {u'feature_dim': u'2', u'k': u'10', u'force_dense': u'True'}\u001b[0m\n",
      "\u001b[34m[03/25/2020 20:02:41 INFO 139660832012096] Final configuration: {u'_tuning_objective_metric': u'', u'extra_center_factor': u'auto', u'local_lloyd_init_method': u'kmeans++', u'force_dense': u'True', u'epochs': u'1', u'feature_dim': u'2', u'local_lloyd_tol': u'0.0001', u'_disable_wait_to_read': u'false', u'eval_metrics': u'[\"msd\"]', u'_num_kv_servers': u'1', u'mini_batch_size': u'5000', u'_enable_profiler': u'false', u'_num_gpus': u'auto', u'local_lloyd_num_trials': u'auto', u'_log_level': u'info', u'init_method': u'random', u'half_life_time_size': u'0', u'local_lloyd_max_iter': u'300', u'_kvstore': u'auto', u'k': u'10', u'_num_slices': u'1'}\u001b[0m\n",
      "\u001b[34m[03/25/2020 20:02:41 WARNING 139660832012096] Loggers have already been setup.\u001b[0m\n",
      "\u001b[34mProcess 1 is a worker.\u001b[0m\n",
      "\u001b[34m[03/25/2020 20:02:41 INFO 139660832012096] Using default worker.\u001b[0m\n",
      "\u001b[34m[03/25/2020 20:02:41 INFO 139660832012096] Loaded iterator creator application/x-recordio-protobuf for content type ('application/x-recordio-protobuf', '1.0')\u001b[0m\n",
      "\u001b[34m[03/25/2020 20:02:41 INFO 139660832012096] Create Store: local\u001b[0m\n",
      "\u001b[34m[03/25/2020 20:02:41 INFO 139660832012096] nvidia-smi took: 0.025181055069 secs to identify 0 gpus\u001b[0m\n",
      "\u001b[34m[03/25/2020 20:02:41 INFO 139660832012096] Number of GPUs being used: 0\u001b[0m\n",
      "\u001b[34m[03/25/2020 20:02:41 INFO 139660832012096] Setting up with params: {u'_tuning_objective_metric': u'', u'extra_center_factor': u'auto', u'local_lloyd_init_method': u'kmeans++', u'force_dense': u'True', u'epochs': u'1', u'feature_dim': u'2', u'local_lloyd_tol': u'0.0001', u'_disable_wait_to_read': u'false', u'eval_metrics': u'[\"msd\"]', u'_num_kv_servers': u'1', u'mini_batch_size': u'5000', u'_enable_profiler': u'false', u'_num_gpus': u'auto', u'local_lloyd_num_trials': u'auto', u'_log_level': u'info', u'init_method': u'random', u'half_life_time_size': u'0', u'local_lloyd_max_iter': u'300', u'_kvstore': u'auto', u'k': u'10', u'_num_slices': u'1'}\u001b[0m\n",
      "\u001b[34m[03/25/2020 20:02:41 INFO 139660832012096] 'extra_center_factor' was set to 'auto', evaluated to 10.\u001b[0m\n",
      "\u001b[34m[03/25/2020 20:02:41 INFO 139660832012096] Number of GPUs being used: 0\u001b[0m\n",
      "\u001b[34m[03/25/2020 20:02:41 INFO 139660832012096] number of center slices 1\u001b[0m\n",
      "\u001b[34m#metrics {\"Metrics\": {\"Max Batches Seen Between Resets\": {\"count\": 1, \"max\": 1, \"sum\": 1.0, \"min\": 1}, \"Number of Batches Since Last Reset\": {\"count\": 1, \"max\": 1, \"sum\": 1.0, \"min\": 1}, \"Number of Records Since Last Reset\": {\"count\": 1, \"max\": 5000, \"sum\": 5000.0, \"min\": 5000}, \"Total Batches Seen\": {\"count\": 1, \"max\": 1, \"sum\": 1.0, \"min\": 1}, \"Total Records Seen\": {\"count\": 1, \"max\": 5000, \"sum\": 5000.0, \"min\": 5000}, \"Max Records Seen Between Resets\": {\"count\": 1, \"max\": 5000, \"sum\": 5000.0, \"min\": 5000}, \"Reset Count\": {\"count\": 1, \"max\": 0, \"sum\": 0.0, \"min\": 0}}, \"EndTime\": 1585166561.981496, \"Dimensions\": {\"Host\": \"algo-1\", \"Meta\": \"init_train_data_iter\", \"Operation\": \"training\", \"Algorithm\": \"AWS/KMeansWebscale\"}, \"StartTime\": 1585166561.981451}\n",
      "\u001b[0m\n",
      "\u001b[34m[2020-03-25 20:02:41.981] [tensorio] [info] epoch_stats={\"data_pipeline\": \"/opt/ml/input/data/train\", \"epoch\": 0, \"duration\": 42, \"num_examples\": 1, \"num_bytes\": 160000}\u001b[0m\n",
      "\u001b[34m[2020-03-25 20:02:42.067] [tensorio] [info] epoch_stats={\"data_pipeline\": \"/opt/ml/input/data/train\", \"epoch\": 1, \"duration\": 85, \"num_examples\": 4, \"num_bytes\": 576000}\u001b[0m\n",
      "\u001b[34m[03/25/2020 20:02:42 INFO 139660832012096] processed a total of 18000 examples\u001b[0m\n",
      "\u001b[34m[03/25/2020 20:02:42 INFO 139660832012096] #progress_metric: host=algo-1, completed 100 % of epochs\u001b[0m\n",
      "\u001b[34m#metrics {\"Metrics\": {\"Max Batches Seen Between Resets\": {\"count\": 1, \"max\": 4, \"sum\": 4.0, \"min\": 4}, \"Number of Batches Since Last Reset\": {\"count\": 1, \"max\": 4, \"sum\": 4.0, \"min\": 4}, \"Number of Records Since Last Reset\": {\"count\": 1, \"max\": 18000, \"sum\": 18000.0, \"min\": 18000}, \"Total Batches Seen\": {\"count\": 1, \"max\": 5, \"sum\": 5.0, \"min\": 5}, \"Total Records Seen\": {\"count\": 1, \"max\": 23000, \"sum\": 23000.0, \"min\": 23000}, \"Max Records Seen Between Resets\": {\"count\": 1, \"max\": 18000, \"sum\": 18000.0, \"min\": 18000}, \"Reset Count\": {\"count\": 1, \"max\": 1, \"sum\": 1.0, \"min\": 1}}, \"EndTime\": 1585166562.068104, \"Dimensions\": {\"Host\": \"algo-1\", \"Meta\": \"training_data_iter\", \"Operation\": \"training\", \"Algorithm\": \"AWS/KMeansWebscale\", \"epoch\": 0}, \"StartTime\": 1585166561.981734}\n",
      "\u001b[0m\n",
      "\u001b[34m[03/25/2020 20:02:42 INFO 139660832012096] #throughput_metric: host=algo-1, train throughput=208055.953769 records/second\u001b[0m\n",
      "\u001b[34m[03/25/2020 20:02:42 WARNING 139660832012096] wait_for_all_workers will not sync workers since the kv store is not running distributed\u001b[0m\n",
      "\u001b[34m[03/25/2020 20:02:42 INFO 139660832012096] shrinking 100 centers into 10\u001b[0m\n",
      "\u001b[34m[03/25/2020 20:02:42 INFO 139660832012096] local kmeans attempt #0. Current mean square distance 25.363979\u001b[0m\n",
      "\u001b[34m[03/25/2020 20:02:42 INFO 139660832012096] local kmeans attempt #1. Current mean square distance 26.665636\u001b[0m\n",
      "\u001b[34m[03/25/2020 20:02:42 INFO 139660832012096] local kmeans attempt #2. Current mean square distance 26.335335\u001b[0m\n",
      "\u001b[34m[03/25/2020 20:02:42 INFO 139660832012096] local kmeans attempt #3. Current mean square distance 24.814001\u001b[0m\n",
      "\u001b[34m[03/25/2020 20:02:42 INFO 139660832012096] local kmeans attempt #4. Current mean square distance 24.931019\u001b[0m\n",
      "\u001b[34m[03/25/2020 20:02:42 INFO 139660832012096] local kmeans attempt #5. Current mean square distance 24.432545\u001b[0m\n",
      "\u001b[34m[03/25/2020 20:02:42 INFO 139660832012096] local kmeans attempt #6. Current mean square distance 25.954748\u001b[0m\n",
      "\u001b[34m[03/25/2020 20:02:42 INFO 139660832012096] local kmeans attempt #7. Current mean square distance 25.736589\u001b[0m\n",
      "\u001b[34m[03/25/2020 20:02:42 INFO 139660832012096] local kmeans attempt #8. Current mean square distance 25.382204\u001b[0m\n",
      "\u001b[34m[03/25/2020 20:02:42 INFO 139660832012096] local kmeans attempt #9. Current mean square distance 24.863047\u001b[0m\n",
      "\u001b[34m[03/25/2020 20:02:42 INFO 139660832012096] finished shrinking process. Mean Square Distance = 24\u001b[0m\n",
      "\u001b[34m[03/25/2020 20:02:42 INFO 139660832012096] #quality_metric: host=algo-1, train msd <loss>=24.4325447083\u001b[0m\n",
      "\u001b[34m[03/25/2020 20:02:42 INFO 139660832012096] compute all data-center distances: inner product took: 22.0811%, (0.020523 secs)\u001b[0m\n",
      "\u001b[34m[03/25/2020 20:02:42 INFO 139660832012096] predict compute msd took: 20.7825%, (0.019316 secs)\u001b[0m\n",
      "\u001b[34m[03/25/2020 20:02:42 INFO 139660832012096] gradient: cluster size  took: 12.4100%, (0.011534 secs)\u001b[0m\n",
      "\u001b[34m[03/25/2020 20:02:42 INFO 139660832012096] collect from kv store took: 9.3076%, (0.008651 secs)\u001b[0m\n",
      "\u001b[34m[03/25/2020 20:02:42 INFO 139660832012096] splitting centers key-value pair took: 8.8707%, (0.008245 secs)\u001b[0m\n",
      "\u001b[34m[03/25/2020 20:02:42 INFO 139660832012096] batch data loading with context took: 7.3021%, (0.006787 secs)\u001b[0m\n",
      "\u001b[34m[03/25/2020 20:02:42 INFO 139660832012096] gradient: cluster center took: 7.2603%, (0.006748 secs)\u001b[0m\n",
      "\u001b[34m[03/25/2020 20:02:42 INFO 139660832012096] compute all data-center distances: point norm took: 5.0314%, (0.004676 secs)\u001b[0m\n",
      "\u001b[34m[03/25/2020 20:02:42 INFO 139660832012096] gradient: one_hot took: 4.1885%, (0.003893 secs)\u001b[0m\n",
      "\u001b[34m[03/25/2020 20:02:42 INFO 139660832012096] update state and report convergance took: 1.8703%, (0.001738 secs)\u001b[0m\n",
      "\u001b[34m[03/25/2020 20:02:42 INFO 139660832012096] compute all data-center distances: center norm took: 0.5885%, (0.000547 secs)\u001b[0m\n",
      "\u001b[34m[03/25/2020 20:02:42 INFO 139660832012096] update set-up time took: 0.2250%, (0.000209 secs)\u001b[0m\n",
      "\u001b[34m[03/25/2020 20:02:42 INFO 139660832012096] predict minus dist took: 0.0821%, (0.000076 secs)\u001b[0m\n",
      "\u001b[34m[03/25/2020 20:02:42 INFO 139660832012096] TOTAL took: 0.0929431915283\u001b[0m\n",
      "\u001b[34m[03/25/2020 20:02:42 INFO 139660832012096] Number of GPUs being used: 0\u001b[0m\n",
      "\u001b[34m#metrics {\"Metrics\": {\"finalize.time\": {\"count\": 1, \"max\": 344.4240093231201, \"sum\": 344.4240093231201, \"min\": 344.4240093231201}, \"initialize.time\": {\"count\": 1, \"max\": 35.86602210998535, \"sum\": 35.86602210998535, \"min\": 35.86602210998535}, \"model.serialize.time\": {\"count\": 1, \"max\": 0.1499652862548828, \"sum\": 0.1499652862548828, \"min\": 0.1499652862548828}, \"update.time\": {\"count\": 1, \"max\": 86.16805076599121, \"sum\": 86.16805076599121, \"min\": 86.16805076599121}, \"epochs\": {\"count\": 1, \"max\": 1, \"sum\": 1.0, \"min\": 1}, \"state.serialize.time\": {\"count\": 1, \"max\": 1.5609264373779297, \"sum\": 1.5609264373779297, \"min\": 1.5609264373779297}, \"_shrink.time\": {\"count\": 1, \"max\": 340.71803092956543, \"sum\": 340.71803092956543, \"min\": 340.71803092956543}}, \"EndTime\": 1585166562.414799, \"Dimensions\": {\"Host\": \"algo-1\", \"Operation\": \"training\", \"Algorithm\": \"AWS/KMeansWebscale\"}, \"StartTime\": 1585166561.938116}\n",
      "\u001b[0m\n",
      "\u001b[34m[03/25/2020 20:02:42 INFO 139660832012096] Test data is not provided.\u001b[0m\n",
      "\u001b[34m#metrics {\"Metrics\": {\"totaltime\": {\"count\": 1, \"max\": 539.5338535308838, \"sum\": 539.5338535308838, \"min\": 539.5338535308838}, \"setuptime\": {\"count\": 1, \"max\": 13.571023941040039, \"sum\": 13.571023941040039, \"min\": 13.571023941040039}}, \"EndTime\": 1585166562.415127, \"Dimensions\": {\"Host\": \"algo-1\", \"Operation\": \"training\", \"Algorithm\": \"AWS/KMeansWebscale\"}, \"StartTime\": 1585166562.414892}\n",
      "\u001b[0m\n",
      "\n",
      "2020-03-25 20:02:51 Completed - Training job completed\n",
      "Training seconds: 59\n",
      "Billable seconds: 59\n",
      "CPU times: user 513 ms, sys: 11.6 ms, total: 525 ms\n",
      "Wall time: 4min 12s\n"
     ]
    }
   ],
   "source": [
    "%%time\n",
    "\n",
    "kmeans.fit(data_train_records, job_name=job_name, )"
   ]
  },
  {
   "cell_type": "markdown",
   "metadata": {},
   "source": [
    "## Examining the Trained Model"
   ]
  },
  {
   "cell_type": "code",
   "execution_count": 50,
   "metadata": {},
   "outputs": [
    {
     "name": "stdout",
     "output_type": "stream",
     "text": [
      "['model.tar.gz', 'ufo-sighting-kmeans.ipynb', '.ipynb_checkpoints']\n",
      "['model.tar.gz', 'ufo-sighting-kmeans.ipynb', 'model_algo-1', '.ipynb_checkpoints', 'state_c7eb20f2-d372-46da-b9e7-92226fd64ead']\n",
      "['model.tar.gz', 'ufo-sighting-kmeans.ipynb', 'model_algo-1', '.ipynb_checkpoints', 'state_c7eb20f2-d372-46da-b9e7-92226fd64ead']\n"
     ]
    }
   ],
   "source": [
    "model_key = f'model_artifacts/{job_name}/output/model.tar.gz'\n",
    "\n",
    "boto3.resource('s3').Bucket(bucket).download_file(model_key, 'model.tar.gz')\n",
    "print(os.listdir())\n",
    "os.system('tar -zxvf model.tar.gz')\n",
    "print(os.listdir())\n",
    "os.system('unzip model_algo-1')\n",
    "print(os.listdir())"
   ]
  },
  {
   "cell_type": "code",
   "execution_count": 51,
   "metadata": {},
   "outputs": [
    {
     "name": "stdout",
     "output_type": "stream",
     "text": [
      "Collecting mxnet\n",
      "\u001b[?25l  Downloading https://files.pythonhosted.org/packages/81/f5/d79b5b40735086ff1100c680703e0f3efc830fa455e268e9e96f3c857e93/mxnet-1.6.0-py2.py3-none-any.whl (68.7MB)\n",
      "\u001b[K    100% |████████████████████████████████| 68.7MB 685kB/s eta 0:00:01\n",
      "\u001b[?25hCollecting graphviz<0.9.0,>=0.8.1 (from mxnet)\n",
      "  Downloading https://files.pythonhosted.org/packages/53/39/4ab213673844e0c004bed8a0781a0721a3f6bb23eb8854ee75c236428892/graphviz-0.8.4-py2.py3-none-any.whl\n",
      "Collecting numpy<2.0.0,>1.16.0 (from mxnet)\n",
      "\u001b[?25l  Downloading https://files.pythonhosted.org/packages/07/08/a549ba8b061005bb629b76adc000f3caaaf881028b963c2e18f811c6edc1/numpy-1.18.2-cp36-cp36m-manylinux1_x86_64.whl (20.2MB)\n",
      "\u001b[K    100% |████████████████████████████████| 20.2MB 2.4MB/s eta 0:00:01\n",
      "\u001b[?25hRequirement already satisfied: requests<3,>=2.20.0 in /home/ec2-user/anaconda3/envs/python3/lib/python3.6/site-packages (from mxnet) (2.20.0)\n",
      "Requirement already satisfied: certifi>=2017.4.17 in /home/ec2-user/anaconda3/envs/python3/lib/python3.6/site-packages (from requests<3,>=2.20.0->mxnet) (2019.11.28)\n",
      "Requirement already satisfied: idna<2.8,>=2.5 in /home/ec2-user/anaconda3/envs/python3/lib/python3.6/site-packages (from requests<3,>=2.20.0->mxnet) (2.6)\n",
      "Requirement already satisfied: chardet<3.1.0,>=3.0.2 in /home/ec2-user/anaconda3/envs/python3/lib/python3.6/site-packages (from requests<3,>=2.20.0->mxnet) (3.0.4)\n",
      "Requirement already satisfied: urllib3<1.25,>=1.21.1 in /home/ec2-user/anaconda3/envs/python3/lib/python3.6/site-packages (from requests<3,>=2.20.0->mxnet) (1.23)\n",
      "Installing collected packages: graphviz, numpy, mxnet\n",
      "  Found existing installation: numpy 1.14.3\n",
      "    Uninstalling numpy-1.14.3:\n",
      "      Successfully uninstalled numpy-1.14.3\n",
      "Successfully installed graphviz-0.8.4 mxnet-1.6.0 numpy-1.18.2\n",
      "\u001b[33mYou are using pip version 10.0.1, however version 20.0.2 is available.\n",
      "You should consider upgrading via the 'pip install --upgrade pip' command.\u001b[0m\n"
     ]
    }
   ],
   "source": [
    "!pip install mxnet"
   ]
  },
  {
   "cell_type": "code",
   "execution_count": 52,
   "metadata": {},
   "outputs": [
    {
     "name": "stderr",
     "output_type": "stream",
     "text": [
      "/home/ec2-user/anaconda3/envs/python3/lib/python3.6/importlib/_bootstrap.py:219: RuntimeWarning: numpy.dtype size changed, may indicate binary incompatibility. Expected 96, got 88\n",
      "  return f(*args, **kwds)\n",
      "/home/ec2-user/anaconda3/envs/python3/lib/python3.6/importlib/_bootstrap.py:219: RuntimeWarning: numpy.dtype size changed, may indicate binary incompatibility. Expected 96, got 88\n",
      "  return f(*args, **kwds)\n"
     ]
    }
   ],
   "source": [
    "import mxnet as mx"
   ]
  },
  {
   "cell_type": "code",
   "execution_count": 61,
   "metadata": {},
   "outputs": [
    {
     "data": {
      "text/html": [
       "<div>\n",
       "<style scoped>\n",
       "    .dataframe tbody tr th:only-of-type {\n",
       "        vertical-align: middle;\n",
       "    }\n",
       "\n",
       "    .dataframe tbody tr th {\n",
       "        vertical-align: top;\n",
       "    }\n",
       "\n",
       "    .dataframe thead th {\n",
       "        text-align: right;\n",
       "    }\n",
       "</style>\n",
       "<table border=\"1\" class=\"dataframe\">\n",
       "  <thead>\n",
       "    <tr style=\"text-align: right;\">\n",
       "      <th></th>\n",
       "      <th>latitude</th>\n",
       "      <th>longitude</th>\n",
       "    </tr>\n",
       "  </thead>\n",
       "  <tbody>\n",
       "    <tr>\n",
       "      <th>0</th>\n",
       "      <td>30.719372</td>\n",
       "      <td>-81.958321</td>\n",
       "    </tr>\n",
       "    <tr>\n",
       "      <th>1</th>\n",
       "      <td>12.235952</td>\n",
       "      <td>77.759949</td>\n",
       "    </tr>\n",
       "    <tr>\n",
       "      <th>2</th>\n",
       "      <td>43.408417</td>\n",
       "      <td>-121.155159</td>\n",
       "    </tr>\n",
       "    <tr>\n",
       "      <th>3</th>\n",
       "      <td>51.686306</td>\n",
       "      <td>0.797462</td>\n",
       "    </tr>\n",
       "    <tr>\n",
       "      <th>4</th>\n",
       "      <td>40.817497</td>\n",
       "      <td>-86.821793</td>\n",
       "    </tr>\n",
       "    <tr>\n",
       "      <th>5</th>\n",
       "      <td>35.612389</td>\n",
       "      <td>-98.424522</td>\n",
       "    </tr>\n",
       "    <tr>\n",
       "      <th>6</th>\n",
       "      <td>21.645144</td>\n",
       "      <td>-157.815598</td>\n",
       "    </tr>\n",
       "    <tr>\n",
       "      <th>7</th>\n",
       "      <td>41.430389</td>\n",
       "      <td>-74.697464</td>\n",
       "    </tr>\n",
       "    <tr>\n",
       "      <th>8</th>\n",
       "      <td>34.550671</td>\n",
       "      <td>-115.411842</td>\n",
       "    </tr>\n",
       "    <tr>\n",
       "      <th>9</th>\n",
       "      <td>58.506668</td>\n",
       "      <td>-140.455597</td>\n",
       "    </tr>\n",
       "  </tbody>\n",
       "</table>\n",
       "</div>"
      ],
      "text/plain": [
       "    latitude   longitude\n",
       "0  30.719372  -81.958321\n",
       "1  12.235952   77.759949\n",
       "2  43.408417 -121.155159\n",
       "3  51.686306    0.797462\n",
       "4  40.817497  -86.821793\n",
       "5  35.612389  -98.424522\n",
       "6  21.645144 -157.815598\n",
       "7  41.430389  -74.697464\n",
       "8  34.550671 -115.411842\n",
       "9  58.506668 -140.455597"
      ]
     },
     "execution_count": 61,
     "metadata": {},
     "output_type": "execute_result"
    }
   ],
   "source": [
    "kmeans_model_params = mx.ndarray.load('model_algo-1')\n",
    "kmeans_centroids = pd.DataFrame(kmeans_model_params[0].asnumpy(), columns=['latitude', 'longitude'])\n",
    "kmeans_centroids"
   ]
  },
  {
   "cell_type": "markdown",
   "metadata": {},
   "source": [
    "## Pushing Results to S3\n",
    "Now that we have the kmeans centroids of each of the 10 clusters, we can push these to s3 using boto3"
   ]
  },
  {
   "cell_type": "code",
   "execution_count": 65,
   "metadata": {},
   "outputs": [
    {
     "data": {
      "text/plain": [
       "{'ResponseMetadata': {'RequestId': '339EF95BA95701F2',\n",
       "  'HostId': 'uE15GAYXPBTrNmVY6o+OOPeUa4D6UDHmsre5nTBX9VU7mVDuOtAHy0QBGvM9jTLjUUh2lIvI2KM=',\n",
       "  'HTTPStatusCode': 200,\n",
       "  'HTTPHeaders': {'x-amz-id-2': 'uE15GAYXPBTrNmVY6o+OOPeUa4D6UDHmsre5nTBX9VU7mVDuOtAHy0QBGvM9jTLjUUh2lIvI2KM=',\n",
       "   'x-amz-request-id': '339EF95BA95701F2',\n",
       "   'date': 'Wed, 25 Mar 2020 20:14:06 GMT',\n",
       "   'etag': '\"4e2e00fe05df721d0e6187ee7f2dd4d9\"',\n",
       "   'content-length': '0',\n",
       "   'server': 'AmazonS3'},\n",
       "  'RetryAttempts': 0},\n",
       " 'ETag': '\"4e2e00fe05df721d0e6187ee7f2dd4d9\"'}"
      ]
     },
     "execution_count": 65,
     "metadata": {},
     "output_type": "execute_result"
    }
   ],
   "source": [
    "csv_buffer = StringIO()\n",
    "kmeans_centroids.to_csv(csv_buffer, index=None)\n",
    "s3 = boto3.resource('s3')\n",
    "s3.Object(bucket, 'results/kmeans_centroids.csv').put(Body=csv_buffer.getvalue())"
   ]
  },
  {
   "cell_type": "code",
   "execution_count": null,
   "metadata": {},
   "outputs": [],
   "source": []
  }
 ],
 "metadata": {
  "kernelspec": {
   "display_name": "conda_python3",
   "language": "python",
   "name": "conda_python3"
  },
  "language_info": {
   "codemirror_mode": {
    "name": "ipython",
    "version": 3
   },
   "file_extension": ".py",
   "mimetype": "text/x-python",
   "name": "python",
   "nbconvert_exporter": "python",
   "pygments_lexer": "ipython3",
   "version": "3.6.5"
  }
 },
 "nbformat": 4,
 "nbformat_minor": 4
}
